{
 "cells": [
  {
   "cell_type": "code",
   "execution_count": 1,
   "id": "cccb4141",
   "metadata": {},
   "outputs": [],
   "source": [
    "from autoscraper import AutoScraper"
   ]
  },
  {
   "cell_type": "code",
   "execution_count": 16,
   "id": "7bb85279",
   "metadata": {},
   "outputs": [],
   "source": [
    "flipkart_url = \"https://www.flipkart.com/search?q=iphones&otracker=search&otracker1=search&marketplace=FLIPKART&as-show=on&as=off\"\n",
    "wanted_list=[\"₹61,999\",\"APPLE iPhone 13 (Green, 128 GB)\"]"
   ]
  },
  {
   "cell_type": "code",
   "execution_count": 17,
   "id": "0c1f5e01",
   "metadata": {},
   "outputs": [
    {
     "name": "stdout",
     "output_type": "stream",
     "text": [
      "['₹42,999', '₹61,999', '₹1,49,900', '₹77,490', '₹39,999', '₹45,999', '₹37,999', '₹43,999', '₹69,999', 'APPLE iPhone 13 (Green, 128 GB)', 'APPLE iPhone 13 (Midnight, 128 GB)', 'APPLE iPhone 11 (White, 128 GB)', 'APPLE iPhone 13 (Blue, 128 GB)', 'APPLE iPhone 12 mini (Black, 64 GB)', 'APPLE iPhone 11 (Black, 128 GB)', 'APPLE iPhone 11 (Red, 128 GB)', 'APPLE iPhone 12 mini (White, 64 GB)', 'APPLE iPhone 12 mini (Black, 128 GB)', 'APPLE iPhone 13 ((PRODUCT)RED, 128 GB)', 'APPLE iPhone 13 (Green, 256 GB)', 'APPLE iPhone 14 (Midnight, 128 GB)', 'APPLE iPhone 12 mini (Blue, 64 GB)', 'APPLE iPhone 12 mini (White, 128 GB)', 'APPLE iPhone 13 (Starlight, 128 GB)', 'APPLE iPhone 11 (Purple, 128 GB)', 'APPLE iPhone 14 (Purple, 128 GB)', 'APPLE iPhone 11 (Black, 64 GB)', 'APPLE iPhone 11 (Green, 128 GB)', 'APPLE iPhone 14 (Starlight, 128 GB)', 'APPLE iPhone 11 (White, 64 GB)', 'APPLE iPhone 11 (Purple, 64 GB)', 'APPLE iPhone 11 (Green, 64 GB)', 'APPLE iPhone 14 Pro Max (Deep Purple, 256 GB)']\n"
     ]
    }
   ],
   "source": [
    "scraper=AutoScraper()\n",
    "result=scraper.build(flipkart_url,wanted_list)\n",
    "print(result)"
   ]
  },
  {
   "cell_type": "code",
   "execution_count": 18,
   "id": "7dc7f870",
   "metadata": {},
   "outputs": [
    {
     "data": {
      "text/plain": [
       "{'rule_ypf0': ['₹42,999', '₹61,999', '₹77,490', '₹39,999'],\n",
       " 'rule_g1bi': ['₹61,999',\n",
       "  '₹61,999',\n",
       "  '₹45,999',\n",
       "  '₹61,999',\n",
       "  '₹37,999',\n",
       "  '₹45,999',\n",
       "  '₹43,999',\n",
       "  '₹37,999',\n",
       "  '₹42,999',\n",
       "  '₹61,999',\n",
       "  '₹69,999',\n",
       "  '₹69,999',\n",
       "  '₹69,999',\n",
       "  '₹37,999',\n",
       "  '₹77,490',\n",
       "  '₹42,999',\n",
       "  '₹45,999',\n",
       "  '₹61,999',\n",
       "  '₹77,490',\n",
       "  '₹39,999',\n",
       "  '₹77,490',\n",
       "  '₹39,999',\n",
       "  '₹45,999',\n",
       "  '₹77,490'],\n",
       " 'rule_nda2': ['₹61,999',\n",
       "  '₹61,999',\n",
       "  '₹45,999',\n",
       "  '₹61,999',\n",
       "  '₹37,999',\n",
       "  '₹45,999',\n",
       "  '₹43,999',\n",
       "  '₹37,999',\n",
       "  '₹42,999',\n",
       "  '₹61,999',\n",
       "  '₹69,999',\n",
       "  '₹69,999',\n",
       "  '₹69,999',\n",
       "  '₹37,999',\n",
       "  '₹77,490',\n",
       "  '₹42,999',\n",
       "  '₹45,999',\n",
       "  '₹61,999',\n",
       "  '₹77,490',\n",
       "  '₹39,999',\n",
       "  '₹77,490',\n",
       "  '₹39,999',\n",
       "  '₹45,999',\n",
       "  '₹77,490'],\n",
       " 'rule_47fz': ['₹61,999',\n",
       "  '₹61,999',\n",
       "  '₹45,999',\n",
       "  '₹61,999',\n",
       "  '₹37,999',\n",
       "  '₹45,999',\n",
       "  '₹43,999',\n",
       "  '₹37,999',\n",
       "  '₹42,999',\n",
       "  '₹61,999',\n",
       "  '₹69,999',\n",
       "  '₹69,999',\n",
       "  '₹69,999',\n",
       "  '₹37,999',\n",
       "  '₹77,490',\n",
       "  '₹42,999',\n",
       "  '₹45,999',\n",
       "  '₹61,999',\n",
       "  '₹77,490',\n",
       "  '₹39,999',\n",
       "  '₹77,490',\n",
       "  '₹39,999',\n",
       "  '₹45,999',\n",
       "  '₹77,490'],\n",
       " 'rule_4skn': ['₹61,999',\n",
       "  '₹61,999',\n",
       "  '₹45,999',\n",
       "  '₹61,999',\n",
       "  '₹37,999',\n",
       "  '₹45,999',\n",
       "  '₹43,999',\n",
       "  '₹37,999',\n",
       "  '₹42,999',\n",
       "  '₹61,999',\n",
       "  '₹69,999',\n",
       "  '₹69,999',\n",
       "  '₹69,999',\n",
       "  '₹37,999',\n",
       "  '₹77,490',\n",
       "  '₹42,999',\n",
       "  '₹45,999',\n",
       "  '₹61,999',\n",
       "  '₹77,490',\n",
       "  '₹39,999',\n",
       "  '₹77,490',\n",
       "  '₹39,999',\n",
       "  '₹45,999',\n",
       "  '₹77,490'],\n",
       " 'rule_mlsr': ['₹61,999',\n",
       "  '₹61,999',\n",
       "  '₹45,999',\n",
       "  '₹61,999',\n",
       "  '₹37,999',\n",
       "  '₹45,999',\n",
       "  '₹43,999',\n",
       "  '₹37,999',\n",
       "  '₹42,999',\n",
       "  '₹61,999',\n",
       "  '₹69,999',\n",
       "  '₹69,999',\n",
       "  '₹69,999',\n",
       "  '₹37,999',\n",
       "  '₹77,490',\n",
       "  '₹42,999',\n",
       "  '₹45,999',\n",
       "  '₹61,999',\n",
       "  '₹77,490',\n",
       "  '₹39,999',\n",
       "  '₹77,490',\n",
       "  '₹39,999',\n",
       "  '₹45,999',\n",
       "  '₹77,490'],\n",
       " 'rule_ix6r': ['APPLE iPhone 13 (Green, 128 GB)',\n",
       "  'APPLE iPhone 13 (Midnight, 128 GB)',\n",
       "  'APPLE iPhone 11 (White, 128 GB)',\n",
       "  'APPLE iPhone 13 (Blue, 128 GB)',\n",
       "  'APPLE iPhone 12 mini (Black, 64 GB)',\n",
       "  'APPLE iPhone 11 (Black, 128 GB)',\n",
       "  'APPLE iPhone 11 (Red, 128 GB)',\n",
       "  'APPLE iPhone 12 mini (White, 64 GB)',\n",
       "  'APPLE iPhone 12 mini (Black, 128 GB)',\n",
       "  'APPLE iPhone 13 ((PRODUCT)RED, 128 GB)',\n",
       "  'APPLE iPhone 13 (Blue, 256 GB)',\n",
       "  'APPLE iPhone 13 (Green, 256 GB)',\n",
       "  'APPLE iPhone 13 (Midnight, 256 GB)',\n",
       "  'APPLE iPhone 12 mini (Blue, 64 GB)',\n",
       "  'APPLE iPhone 14 (Midnight, 128 GB)',\n",
       "  'APPLE iPhone 12 mini (White, 128 GB)',\n",
       "  'APPLE iPhone 11 (Purple, 128 GB)',\n",
       "  'APPLE iPhone 13 (Starlight, 128 GB)',\n",
       "  'APPLE iPhone 14 (Blue, 128 GB)',\n",
       "  'APPLE iPhone 11 (White, 64 GB)',\n",
       "  'APPLE iPhone 14 (Purple, 128 GB)',\n",
       "  'APPLE iPhone 11 (Black, 64 GB)',\n",
       "  'APPLE iPhone 11 (Green, 128 GB)',\n",
       "  'APPLE iPhone 14 (Starlight, 128 GB)'],\n",
       " 'rule_sic0': ['APPLE iPhone 13 (Green, 128 GB)',\n",
       "  'APPLE iPhone 13 (Midnight, 128 GB)',\n",
       "  'APPLE iPhone 11 (White, 128 GB)',\n",
       "  'APPLE iPhone 13 (Blue, 128 GB)',\n",
       "  'APPLE iPhone 12 mini (Black, 64 GB)',\n",
       "  'APPLE iPhone 11 (Black, 128 GB)',\n",
       "  'APPLE iPhone 11 (Red, 128 GB)',\n",
       "  'APPLE iPhone 12 mini (White, 64 GB)',\n",
       "  'APPLE iPhone 12 mini (Black, 128 GB)',\n",
       "  'APPLE iPhone 13 ((PRODUCT)RED, 128 GB)',\n",
       "  'APPLE iPhone 13 (Blue, 256 GB)',\n",
       "  'APPLE iPhone 13 (Green, 256 GB)',\n",
       "  'APPLE iPhone 13 (Midnight, 256 GB)',\n",
       "  'APPLE iPhone 12 mini (Blue, 64 GB)',\n",
       "  'APPLE iPhone 14 (Midnight, 128 GB)',\n",
       "  'APPLE iPhone 12 mini (White, 128 GB)',\n",
       "  'APPLE iPhone 11 (Purple, 128 GB)',\n",
       "  'APPLE iPhone 13 (Starlight, 128 GB)',\n",
       "  'APPLE iPhone 14 (Blue, 128 GB)',\n",
       "  'APPLE iPhone 11 (White, 64 GB)',\n",
       "  'APPLE iPhone 14 (Purple, 128 GB)',\n",
       "  'APPLE iPhone 11 (Black, 64 GB)',\n",
       "  'APPLE iPhone 11 (Green, 128 GB)',\n",
       "  'APPLE iPhone 14 (Starlight, 128 GB)']}"
      ]
     },
     "execution_count": 18,
     "metadata": {},
     "output_type": "execute_result"
    }
   ],
   "source": [
    "scraper.get_result_similar(flipkart_url,grouped=True)"
   ]
  },
  {
   "cell_type": "code",
   "execution_count": 19,
   "id": "68a85d86",
   "metadata": {},
   "outputs": [],
   "source": [
    "scraper.set_rule_aliases({'rule_ix6r':'Title','rule_g1bi':'Price'})\n",
    "scraper.keep_rules(['rule_ix6r','rule_g1bi'])\n",
    "scraper.save('Flipkart-Search')\n"
   ]
  },
  {
   "cell_type": "code",
   "execution_count": 23,
   "id": "d8f6d97d",
   "metadata": {},
   "outputs": [],
   "source": [
    "results=scraper.get_result_similar('https://www.flipkart.com/search?q=mi%20phones&otracker=search&otracker1=search&marketplace=FLIPKART&as-show=on&as=off',group_by_alias=True)"
   ]
  },
  {
   "cell_type": "code",
   "execution_count": 30,
   "id": "2067d60b",
   "metadata": {},
   "outputs": [
    {
     "data": {
      "text/plain": [
       "['REDMI 10A (Slate grey, 64 GB)',\n",
       " 'REDMI 10A (Charcoal Black, 64 GB)',\n",
       " 'REDMI 10 Power (Sporty Orange, 128 GB)',\n",
       " 'REDMI 10 Power (Power Black, 128 GB)',\n",
       " 'REDMI 10A (Sea Blue, 64 GB)',\n",
       " 'REDMI 10A (Slate grey, 64 GB)',\n",
       " 'Redmi 9A Sport (Carbon Black, 32 GB)',\n",
       " 'Redmi Note 11 (Starburst White, 64 GB)',\n",
       " 'Redmi Note 11 (Horizon Blue, 64 GB)',\n",
       " 'Redmi Note 11 (Horizon Blue, 128 GB)',\n",
       " 'Redmi Note 11 (Horizon Blue, 128 GB)',\n",
       " 'Redmi 9A Sport (Carbon Black, 32 GB)',\n",
       " 'Redmi 9A Sport (Coral Green, 32 GB)',\n",
       " 'Redmi Note 11 (Horizon Blue, 64 GB)',\n",
       " 'Xiaomi 11i 5G (Stealth Black, 128 GB)',\n",
       " 'Redmi Note 11 (Starburst White, 128 GB)',\n",
       " 'REDMI 10A (Sea Blue, 64 GB)',\n",
       " 'REDMI 10A (Charcoal Black, 32 GB)',\n",
       " 'Redmi Note 11 PRO Plus 5G (Mirage Blue, 128 GB)',\n",
       " 'Redmi Note 11 (Space Black, 128 GB)',\n",
       " 'REDMI Note 11T 5G (Stardust White, 128 GB)',\n",
       " 'Redmi Note 11 PRO Plus 5G (Mirage Blue, 128 GB)',\n",
       " 'Redmi 9A (Nature Green, 32 GB)',\n",
       " 'Xiaomi 11i Hypercharge 5G (Pacific Pearl, 128 GB)']"
      ]
     },
     "execution_count": 30,
     "metadata": {},
     "output_type": "execute_result"
    }
   ],
   "source": [
    "results['Title']"
   ]
  },
  {
   "cell_type": "code",
   "execution_count": null,
   "id": "fcc30c3c",
   "metadata": {},
   "outputs": [],
   "source": []
  },
  {
   "cell_type": "code",
   "execution_count": null,
   "id": "bd2e652b",
   "metadata": {},
   "outputs": [],
   "source": []
  }
 ],
 "metadata": {
  "kernelspec": {
   "display_name": "Python 3 (ipykernel)",
   "language": "python",
   "name": "python3"
  },
  "language_info": {
   "codemirror_mode": {
    "name": "ipython",
    "version": 3
   },
   "file_extension": ".py",
   "mimetype": "text/x-python",
   "name": "python",
   "nbconvert_exporter": "python",
   "pygments_lexer": "ipython3",
   "version": "3.11.0"
  }
 },
 "nbformat": 4,
 "nbformat_minor": 5
}
